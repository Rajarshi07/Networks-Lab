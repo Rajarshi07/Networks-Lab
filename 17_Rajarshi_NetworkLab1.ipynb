{
 "cells": [
  {
   "cell_type": "code",
   "execution_count": 5,
   "metadata": {},
   "outputs": [],
   "source": [
    "def getClass(ip):\n",
    "    ip = ip.split('/')\n",
    "    if len(ip)==2:\n",
    "        return 'CIDR',int(ip[-1])\n",
    "    parts=list(map(int,ip[0].split('.')))\n",
    "    if parts[0]>=0 and parts[0]<=127:\n",
    "        return 'A',8\n",
    "    elif parts[0]>=128 and parts[0]<=191:\n",
    "        return 'B',16\n",
    "    elif parts[0]>=192 and parts[0]<=223:\n",
    "        return 'C',24\n",
    "    elif parts[0]>=224 and parts[0]<=239:\n",
    "        return 'D',32\n",
    "    elif parts[0]>=240 and parts[0]<=255:\n",
    "        return 'E',32\n",
    "    else:\n",
    "        return 'Invalid',0"
   ]
  },
  {
   "cell_type": "code",
   "execution_count": 6,
   "metadata": {},
   "outputs": [],
   "source": [
    "def getMask(suffix):\n",
    "    if(suffix>32 or suffix<0):\n",
    "        return False\n",
    "    m = '1'*suffix+'0'*(32-suffix)\n",
    "    parts = [m[i:i+8] for i in range(0, len(m), 8)]\n",
    "    subnetMask = []\n",
    "    for part in parts:\n",
    "        subnetMask.append(str(int(part,2)))\n",
    "    return '.'.join(subnetMask)"
   ]
  },
  {
   "cell_type": "code",
   "execution_count": 7,
   "metadata": {},
   "outputs": [],
   "source": [
    "def isValid(ip):\n",
    "    ip = ip.split('/')[0]\n",
    "    parts = list(map(int,ip.split('.')))\n",
    "    if len(parts)!=4:\n",
    "        return False\n",
    "    for part in parts:\n",
    "        if part < 0 or part > 255:\n",
    "            return False\n",
    "    return True"
   ]
  },
  {
   "cell_type": "code",
   "execution_count": 8,
   "metadata": {},
   "outputs": [],
   "source": [
    "def getIpDetails(ip):\n",
    "    if not isValid(ip):\n",
    "        return \"Invalid IP Address\"\n",
    "    ipClass = getClass(ip)\n",
    "    subnet = getMask(ipClass[1])\n",
    "    subnetParts = list(map(int,subnet.split('.')))\n",
    "    ip = ip.split('/')[0]\n",
    "    parts = list(map(int,ip.split('.')))\n",
    "    netId = []\n",
    "    for i in range(len(parts)):\n",
    "        netId.append(subnetParts[i]&parts[i])\n",
    "    netId = '.'.join(map(str,netId))\n",
    "    return ipClass[0],subnet,netId"
   ]
  },
  {
   "cell_type": "code",
   "execution_count": 9,
   "metadata": {},
   "outputs": [
    {
     "name": "stdout",
     "output_type": "stream",
     "text": [
      "112.56.75.10 ('A', '255.0.0.0', '112.0.0.0')\n",
      "213.10.0.5 ('C', '255.255.255.0', '213.10.0.0')\n",
      "197.57.10.10 ('C', '255.255.255.0', '197.57.10.0')\n",
      "132.75.75.1 ('B', '255.255.0.0', '132.75.0.0')\n",
      "256.10.175.9 Invalid IP Address\n",
      "233.10.5.10 ('D', '255.255.255.255', '233.10.5.10')\n",
      "124.50.26.10/24 ('CIDR', '255.255.255.0', '124.50.26.0')\n",
      "124.50.26.10/27 ('CIDR', '255.255.255.224', '124.50.26.0')\n",
      "124.50.26.10/10 ('CIDR', '255.192.0.0', '124.0.0.0')\n",
      "142.256.0.22/12 Invalid IP Address\n"
     ]
    }
   ],
   "source": [
    "ips = [\n",
    "    '112.56.75.10',\n",
    "    '213.10.0.5',\n",
    "    '197.57.10.10',\n",
    "    '132.75.75.1',\n",
    "    '256.10.175.9',\n",
    "    '233.10.5.10',\n",
    "    '124.50.26.10/24',\n",
    "    '124.50.26.10/27',\n",
    "    '124.50.26.10/10',\n",
    "    '142.256.0.22/12'\n",
    "]\n",
    "for ip in ips:\n",
    "    print(ip,getIpDetails(ip))"
   ]
  },
  {
   "cell_type": "code",
   "execution_count": 2,
   "metadata": {},
   "outputs": [],
   "source": [
    "import socket"
   ]
  },
  {
   "cell_type": "code",
   "execution_count": 13,
   "metadata": {},
   "outputs": [
    {
     "name": "stdout",
     "output_type": "stream",
     "text": [
      "google.com 142.250.207.238 ('B', '255.255.0.0', '142.250.0.0')\n"
     ]
    }
   ],
   "source": [
    "# host = socket.gethostname()\n",
    "host = 'google.com'\n",
    "ip = socket.gethostbyname(host)\n",
    "print(host,ip,getIpDetails(ip))"
   ]
  }
 ],
 "metadata": {
  "kernelspec": {
   "display_name": "Python 3",
   "language": "python",
   "name": "python3"
  },
  "language_info": {
   "codemirror_mode": {
    "name": "ipython",
    "version": 3
   },
   "file_extension": ".py",
   "mimetype": "text/x-python",
   "name": "python",
   "nbconvert_exporter": "python",
   "pygments_lexer": "ipython3",
   "version": "3.6.6"
  }
 },
 "nbformat": 4,
 "nbformat_minor": 2
}
