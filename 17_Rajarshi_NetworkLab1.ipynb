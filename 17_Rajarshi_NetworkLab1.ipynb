{
 "cells": [
  {
   "cell_type": "code",
   "execution_count": 1,
   "metadata": {},
   "outputs": [],
   "source": [
    "def getClass(ip):\n",
    "    ip = ip.split('/')\n",
    "    if len(ip)==2:\n",
    "        return 'CIDR',int(ip[-1])\n",
    "    parts=list(map(int,ip[0].split('.')))\n",
    "    if parts[0]>=0 and parts[0]<=127:\n",
    "        return 'A',8\n",
    "    elif parts[0]>=128 and parts[0]<=191:\n",
    "        return 'B',16\n",
    "    elif parts[0]>=192 and parts[0]<=223:\n",
    "        return 'C',24\n",
    "    elif parts[0]>=224 and parts[0]<=239:\n",
    "        return 'D',32\n",
    "    elif parts[0]>=240 and parts[0]<=255:\n",
    "        return 'E',32\n",
    "    else:\n",
    "        return 'Invalid',0"
   ]
  },
  {
   "cell_type": "code",
   "execution_count": 27,
   "metadata": {},
   "outputs": [],
   "source": [
    "def getMask(suffix):\n",
    "    if(suffix>32 or suffix<0):\n",
    "        return False\n",
    "    m = '1'*suffix+'0'*(32-suffix)\n",
    "    parts = [m[i:i+8] for i in range(0, len(m), 8)]\n",
    "    subnetMask = []\n",
    "    for part in parts:\n",
    "        subnetMask.append(str(int(part,2)))\n",
    "    return '.'.join(subnetMask)"
   ]
  },
  {
   "cell_type": "code",
   "execution_count": 28,
   "metadata": {},
   "outputs": [],
   "source": [
    "def isValid(ip):\n",
    "    ip = ip.split('/')[0]\n",
    "    parts = list(map(int,ip.split('.')))\n",
    "    if len(parts)!=4:\n",
    "        return False\n",
    "    for part in parts:\n",
    "        if part < 0 or part > 255:\n",
    "            return False\n",
    "    return True"
   ]
  },
  {
   "cell_type": "code",
   "execution_count": 29,
   "metadata": {},
   "outputs": [],
   "source": [
    "def getIpDetails(ip):\n",
    "    if not isValid(ip):\n",
    "        return \"Invalid IP Address\"\n",
    "    ipClass = getClass(ip)\n",
    "    subnet = getMask(ipClass[1])\n",
    "    subnetParts = list(map(int,subnet.split('.')))\n",
    "    ip = ip.split('/')[0]\n",
    "    parts = list(map(int,ip.split('.')))\n",
    "    netId = []\n",
    "    for i in range(len(parts)):\n",
    "        netId.append(subnetParts[i]&parts[i])\n",
    "    netId = '.'.join(map(str,netId))\n",
    "    return ipClass[0],subnet,netId"
   ]
  },
  {
   "cell_type": "code",
   "execution_count": 30,
   "metadata": {},
   "outputs": [
    {
     "name": "stdout",
     "output_type": "stream",
     "text": [
      "112.56.75.10 ('A', '255.0.0.0', '112.0.0.0')\n",
      "213.10.0.5 ('C', '255.255.255.0', '213.10.0.0')\n",
      "197.57.10.10 ('C', '255.255.255.0', '197.57.10.0')\n",
      "132.75.75.1 ('B', '255.255.0.0', '132.75.0.0')\n",
      "256.10.175.9 Invalid IP Address\n",
      "233.10.5.10 ('D', '255.255.255.255', '233.10.5.10')\n",
      "124.50.26.10/24 ('CIDR', '255.255.255.0', '124.50.26.0')\n",
      "124.50.26.10/27 ('CIDR', '255.255.255.224', '124.50.26.0')\n",
      "124.50.26.10/10 ('CIDR', '255.192.0.0', '124.0.0.0')\n",
      "142.256.0.22/12 Invalid IP Address\n"
     ]
    }
   ],
   "source": [
    "ips = [\n",
    "    '112.56.75.10',\n",
    "    '213.10.0.5',\n",
    "    '197.57.10.10',\n",
    "    '132.75.75.1',\n",
    "    '256.10.175.9',\n",
    "    '233.10.5.10',\n",
    "    '124.50.26.10/24',\n",
    "    '124.50.26.10/27',\n",
    "    '124.50.26.10/10',\n",
    "    '142.256.0.22/12'\n",
    "]\n",
    "for ip in ips:\n",
    "    print(ip,getIpDetails(ip))"
   ]
  },
  {
   "cell_type": "code",
   "execution_count": 2,
   "metadata": {},
   "outputs": [],
   "source": [
    "import socket"
   ]
  },
  {
   "cell_type": "code",
   "execution_count": 3,
   "metadata": {},
   "outputs": [
    {
     "name": "stdout",
     "output_type": "stream",
     "text": [
      "IT2-03 172.16.3.63\n"
     ]
    }
   ],
   "source": [
    "host = socket.gethostname()\n",
    "ip = socket.gethostbyname(host)\n",
    "print(host,ip)"
   ]
  },
  {
   "cell_type": "code",
   "execution_count": 4,
   "metadata": {},
   "outputs": [
    {
     "name": "stdout",
     "output_type": "stream",
     "text": [
      "('google.com', [], ['142.250.195.174'])\n"
     ]
    }
   ],
   "source": [
    "remote_host='google.com'\n",
    "ip = socket.gethostbyname_ex(remote_host)\n",
    "print(ip)"
   ]
  },
  {
   "cell_type": "code",
   "execution_count": 42,
   "metadata": {},
   "outputs": [
    {
     "data": {
      "text/plain": [
       "[(<AddressFamily.AF_INET: 2>, 0, 0, '', ('142.250.196.14', 80))]"
      ]
     },
     "execution_count": 42,
     "metadata": {},
     "output_type": "execute_result"
    }
   ],
   "source": [
    "socket.getaddrinfo('google.com',)"
   ]
  },
  {
   "cell_type": "code",
   "execution_count": 43,
   "metadata": {},
   "outputs": [
    {
     "data": {
      "text/plain": [
       "('maa03s44-in-f14.1e100.net', [], ['142.250.196.14'])"
      ]
     },
     "execution_count": 43,
     "metadata": {},
     "output_type": "execute_result"
    }
   ],
   "source": [
    "socket.gethostbyaddr('142.250.196.14')"
   ]
  },
  {
   "cell_type": "code",
   "execution_count": 53,
   "metadata": {},
   "outputs": [
    {
     "name": "stdout",
     "output_type": "stream",
     "text": [
      "0\n"
     ]
    }
   ],
   "source": [
    "import os\n",
    "remote_host='google.com'\n",
    "ip = socket.gethostbyname(remote_host)\n",
    "print(os.system(f'ping {ip}'))"
   ]
  },
  {
   "cell_type": "code",
   "execution_count": 65,
   "metadata": {},
   "outputs": [
    {
     "name": "stdout",
     "output_type": "stream",
     "text": [
      "\n",
      "Pinging 142.250.195.206 with 32 bytes of data:\n",
      "Reply from 142.250.195.206: bytes=32 time=387ms TTL=117\n",
      "Reply from 142.250.195.206: bytes=32 time=542ms TTL=117\n",
      "Reply from 142.250.195.206: bytes=32 time=243ms TTL=117\n",
      "Reply from 142.250.195.206: bytes=32 time=191ms TTL=117\n",
      "\n",
      "Ping statistics for 142.250.195.206:\n",
      "    Packets: Sent = 4, Received = 4, Lost = 0 (0% loss),\n",
      "Approximate round trip times in milli-seconds:\n",
      "    Minimum = 191ms, Maximum = 542ms, Average = 340ms\n",
      "\n"
     ]
    }
   ],
   "source": [
    "import subprocess\n",
    "try:\n",
    "    response = subprocess.check_output(\n",
    "        ['ping',ip],\n",
    "        stderr=subprocess.STDOUT,  # get all output\n",
    "        universal_newlines=True  # return string not bytes\n",
    "    )\n",
    "except subprocess.CalledProcessError:\n",
    "    response = 'error'\n",
    "print(response)"
   ]
  },
  {
   "cell_type": "code",
   "execution_count": 75,
   "metadata": {},
   "outputs": [
    {
     "name": "stdout",
     "output_type": "stream",
     "text": [
      "\r\n",
      "Pinging 142.250.195.206 with 32 bytes of data:\r\n",
      "Reply from 142.250.195.206: bytes=32 time=51ms TTL=117\r\n",
      "Reply from 142.250.195.206: bytes=32 time=51ms TTL=117\r\n",
      "Reply from 142.250.195.206: bytes=32 time=51ms TTL=117\r\n",
      "Reply from 142.250.195.206: bytes=32 time=50ms TTL=117\r\n",
      "\r\n",
      "Ping statistics for 142.250.195.206:\r\n",
      "    Packets: Sent = 4, Received = 4, Lost = 0 (0% loss),\r\n",
      "Approximate round trip times in milli-seconds:\r\n",
      "    Minimum = 50ms, Maximum = 51ms, Average = 50ms\r\n",
      "\n",
      "142.250.195.206 is UP\n",
      "ping output:\n",
      "\r\n",
      "Pinging 142.250.195.206 with 32 bytes of data:\r\n",
      "Reply from 142.250.195.206: bytes=32 time=51ms TTL=117\r\n",
      "Reply from 142.250.195.206: bytes=32 time=51ms TTL=117\r\n",
      "Reply from 142.250.195.206: bytes=32 time=51ms TTL=117\r\n",
      "Reply from 142.250.195.206: bytes=32 time=50ms TTL=117\r\n",
      "\r\n",
      "Ping statistics for 142.250.195.206:\r\n",
      "    Packets: Sent = 4, Received = 4, Lost = 0 (0% loss),\r\n",
      "Approximate round trip times in milli-seconds:\r\n",
      "    Minimum = 50ms, Maximum = 51ms, Average = 50ms\r\n",
      "\n"
     ]
    }
   ],
   "source": [
    "ipaddress = '142.250.195.206'  # guess who\n",
    "proc = subprocess.Popen(\n",
    "    ['ping', ipaddress],\n",
    "    stdout=subprocess.PIPE)\n",
    "stdout, stderr = proc.communicate()\n",
    "if proc.returncode == 0:\n",
    "    print('{} is UP'.format(ipaddress))\n",
    "    print('ping output:')\n",
    "    print(stdout.decode('ASCII'))"
   ]
  },
  {
   "cell_type": "code",
   "execution_count": null,
   "metadata": {},
   "outputs": [],
   "source": []
  },
  {
   "cell_type": "code",
   "execution_count": null,
   "metadata": {},
   "outputs": [],
   "source": []
  },
  {
   "cell_type": "code",
   "execution_count": null,
   "metadata": {},
   "outputs": [],
   "source": []
  }
 ],
 "metadata": {
  "kernelspec": {
   "display_name": "Python 3",
   "language": "python",
   "name": "python3"
  },
  "language_info": {
   "codemirror_mode": {
    "name": "ipython",
    "version": 3
   },
   "file_extension": ".py",
   "mimetype": "text/x-python",
   "name": "python",
   "nbconvert_exporter": "python",
   "pygments_lexer": "ipython3",
   "version": "3.7.3"
  }
 },
 "nbformat": 4,
 "nbformat_minor": 2
}
