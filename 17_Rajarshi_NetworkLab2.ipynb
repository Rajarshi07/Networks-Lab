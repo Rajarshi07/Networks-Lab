{
 "cells": [
  {
   "cell_type": "code",
   "execution_count": 1,
   "metadata": {},
   "outputs": [],
   "source": [
    "import socket\n",
    "import subprocess\n",
    "import os"
   ]
  },
  {
   "cell_type": "code",
   "execution_count": 2,
   "metadata": {},
   "outputs": [
    {
     "name": "stdout",
     "output_type": "stream",
     "text": [
      "IT2-03 172.16.3.63\n"
     ]
    }
   ],
   "source": [
    "host = socket.gethostname()\n",
    "ip = socket.gethostbyname(host)\n",
    "print(host,ip)"
   ]
  },
  {
   "cell_type": "code",
   "execution_count": 3,
   "metadata": {},
   "outputs": [
    {
     "name": "stdout",
     "output_type": "stream",
     "text": [
      "('google.com', [], ['142.250.195.174'])\n"
     ]
    }
   ],
   "source": [
    "remote_host='google.com'\n",
    "ip = socket.gethostbyname_ex(remote_host)\n",
    "print(ip)"
   ]
  },
  {
   "cell_type": "code",
   "execution_count": 4,
   "metadata": {},
   "outputs": [
    {
     "data": {
      "text/plain": [
       "[(<AddressFamily.AF_INET: 2>, 0, 0, '', ('142.250.195.174', 80))]"
      ]
     },
     "execution_count": 4,
     "metadata": {},
     "output_type": "execute_result"
    }
   ],
   "source": [
    "socket.getaddrinfo('google.com',80)"
   ]
  },
  {
   "cell_type": "code",
   "execution_count": 5,
   "metadata": {},
   "outputs": [
    {
     "data": {
      "text/plain": [
       "('maa03s44-in-f14.1e100.net', [], ['142.250.196.14'])"
      ]
     },
     "execution_count": 5,
     "metadata": {},
     "output_type": "execute_result"
    }
   ],
   "source": [
    "socket.gethostbyaddr('142.250.196.14')"
   ]
  },
  {
   "cell_type": "code",
   "execution_count": 6,
   "metadata": {},
   "outputs": [
    {
     "name": "stdout",
     "output_type": "stream",
     "text": [
      "0\n"
     ]
    }
   ],
   "source": [
    "ip = socket.gethostbyname(remote_host)\n",
    "print(os.system(f'ping {ip}'))"
   ]
  },
  {
   "cell_type": "code",
   "execution_count": 8,
   "metadata": {},
   "outputs": [
    {
     "name": "stdout",
     "output_type": "stream",
     "text": [
      "142.250.195.174 is UP\n",
      "ping output:\n",
      " \n",
      "Pinging 142.250.195.174 with 32 bytes of data:\n",
      "Reply from 142.250.195.174: bytes=32 time=32ms TTL=59\n",
      "Reply from 142.250.195.174: bytes=32 time=33ms TTL=59\n",
      "Reply from 142.250.195.174: bytes=32 time=33ms TTL=59\n",
      "Reply from 142.250.195.174: bytes=32 time=33ms TTL=59\n",
      "\n",
      "Ping statistics for 142.250.195.174:\n",
      "    Packets: Sent = 4, Received = 4, Lost = 0 (0% loss),\n",
      "Approximate round trip times in milli-seconds:\n",
      "    Minimum = 32ms, Maximum = 33ms, Average = 32ms\n",
      "\n"
     ]
    }
   ],
   "source": [
    "proc = subprocess.Popen(\n",
    "    ['ping', ip],\n",
    "    stdout=subprocess.PIPE)\n",
    "stdout, stderr = proc.communicate()\n",
    "if proc.returncode == 0:\n",
    "    print('{} is UP'.format(ip))\n",
    "    print('ping output:\\n',stdout.decode('ASCII'))"
   ]
  }
 ],
 "metadata": {
  "interpreter": {
   "hash": "b3ba2566441a7c06988d0923437866b63cedc61552a5af99d1f4fb67d367b25f"
  },
  "kernelspec": {
   "display_name": "Python 3.7.3 ('base')",
   "language": "python",
   "name": "python3"
  },
  "language_info": {
   "codemirror_mode": {
    "name": "ipython",
    "version": 3
   },
   "file_extension": ".py",
   "mimetype": "text/x-python",
   "name": "python",
   "nbconvert_exporter": "python",
   "pygments_lexer": "ipython3",
   "version": "3.7.3"
  },
  "orig_nbformat": 4
 },
 "nbformat": 4,
 "nbformat_minor": 2
}
